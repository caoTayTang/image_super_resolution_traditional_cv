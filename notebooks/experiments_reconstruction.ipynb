{
 "cells": [
  {
   "cell_type": "code",
   "execution_count": 1,
   "id": "007f29c0",
   "metadata": {},
   "outputs": [],
   "source": [
    "import sys\n",
    "import os\n",
    "sys.path.append('..')\n"
   ]
  },
  {
   "cell_type": "code",
   "execution_count": 2,
   "id": "04937008",
   "metadata": {},
   "outputs": [],
   "source": [
    "import numpy as np\n",
    "import matplotlib.pyplot as plt\n",
    "from PIL import Image\n",
    "from scipy import signal\n",
    "import ipywidgets as widgets\n",
    "from IPython.display import display"
   ]
  },
  {
   "cell_type": "code",
   "execution_count": 3,
   "id": "31afd82d",
   "metadata": {},
   "outputs": [],
   "source": [
    "import matplotlib.pyplot as plt\n",
    "from ipywidgets import *\n",
    "from src.utils import *\n",
    "from src.models import *\n",
    "from src.metrics import *\n",
    "from modules.degradation import *\n",
    "from modules.downsample import simulate_lr_from_hr\n",
    "from modules.upsample import *"
   ]
  },
  {
   "cell_type": "code",
   "execution_count": 4,
   "id": "6b985711",
   "metadata": {},
   "outputs": [],
   "source": [
    "hr = load_hr_image(\"../data/input_hr/brain_ct.png\", scale=4)\n",
    "kernel = gaussian_kernel(9, 1.6)\n",
    "scale = 4"
   ]
  },
  {
   "cell_type": "code",
   "execution_count": 5,
   "id": "41fe4a11",
   "metadata": {},
   "outputs": [],
   "source": [
    "def restore(lr, scale, model=\"Nearest\", iterations=50, alpha=0.2):\n",
    "    print(model)\n",
    "    if model == \"Bicubic\":\n",
    "        up = upsample_bicubic\n",
    "    elif model == \"Bilinear\":\n",
    "        up = upsample_bilinear\n",
    "    elif model == \"Nearest\":\n",
    "        up = upsample_nearest\n",
    "    else:\n",
    "        raise ValueError(\"Unknown upsample model\")\n",
    "    return iterative_backprojection(lr, upsample=up, scale=scale, iterations=iterations, alpha=alpha)\n"
   ]
  },
  {
   "cell_type": "code",
   "execution_count": null,
   "id": "c4403ce1",
   "metadata": {},
   "outputs": [
    {
     "data": {
      "application/vnd.jupyter.widget-view+json": {
       "model_id": "c9c083ac614743a19edf15159017e330",
       "version_major": 2,
       "version_minor": 0
      },
      "text/plain": [
       "Dropdown(description='Noise:', options=('gaussian', 'rayleigh', 'gamma', 'exponential', 'uniform', 'saltpepper…"
      ]
     },
     "metadata": {},
     "output_type": "display_data"
    },
    {
     "data": {
      "application/vnd.jupyter.widget-view+json": {
       "model_id": "2be454b2e18c469b8d67e2f10c1140e5",
       "version_major": 2,
       "version_minor": 0
      },
      "text/plain": [
       "VBox(children=(Checkbox(value=True, description='Nearest'), Checkbox(value=False, description='Bilinear'), Che…"
      ]
     },
     "metadata": {},
     "output_type": "display_data"
    },
    {
     "data": {
      "application/vnd.jupyter.widget-view+json": {
       "model_id": "f8be77f3874549369ac4c12398781d65",
       "version_major": 2,
       "version_minor": 0
      },
      "text/plain": [
       "IntSlider(value=50, description='Iterations', max=200, min=10, step=10)"
      ]
     },
     "metadata": {},
     "output_type": "display_data"
    },
    {
     "data": {
      "application/vnd.jupyter.widget-view+json": {
       "model_id": "44781968490647029384079b2a761944",
       "version_major": 2,
       "version_minor": 0
      },
      "text/plain": [
       "FloatSlider(value=0.2, description='Alpha', max=1.0, step=0.05)"
      ]
     },
     "metadata": {},
     "output_type": "display_data"
    },
    {
     "data": {
      "application/vnd.jupyter.widget-view+json": {
       "model_id": "1e65ee81481541bdb9cab7e068cbb502",
       "version_major": 2,
       "version_minor": 0
      },
      "text/plain": [
       "Button(description='Run SR', style=ButtonStyle())"
      ]
     },
     "metadata": {},
     "output_type": "display_data"
    }
   ],
   "source": [
    "import ipywidgets as widgets\n",
    "from IPython.display import display\n",
    "import matplotlib.pyplot as plt\n",
    "\n",
    "# Noise: chỉ chọn 1\n",
    "noise_widget = widgets.Dropdown(\n",
    "    options=[\"gaussian\",\"rayleigh\",\"gamma\",\"exponential\",\"uniform\",\"saltpepper\"],\n",
    "    value=\"gaussian\",\n",
    "    description=\"Noise:\"\n",
    ")\n",
    "\n",
    "# Models: checkbox cho từng model\n",
    "model_nearest = widgets.Checkbox(value=True, description=\"Nearest\")\n",
    "model_bilinear    = widgets.Checkbox(value=False, description=\"Bilinear\")\n",
    "model_bicubic      = widgets.Checkbox(value=False, description=\"Bicubic\")\n",
    "\n",
    "model_box = widgets.VBox([model_nearest, model_bilinear, model_bicubic])\n",
    "\n",
    "# Sliders\n",
    "iterations_widget = widgets.IntSlider(min=10, max=200, step=10, value=50, description=\"Iterations\")\n",
    "alpha_widget = widgets.FloatSlider(min=0.0, max=1.0, step=0.05, value=0.2, description=\"Alpha\")\n",
    "\n",
    "# Button để chạy\n",
    "run_button = widgets.Button(description=\"Run SR\")\n",
    "\n",
    "def on_run_clicked(b):\n",
    "    clear_output(wait=True)\n",
    "    # Lấy noise\n",
    "    noise = noise_widget.value\n",
    "\n",
    "    # Lấy models tick\n",
    "    models = []\n",
    "    if model_nearest.value: models.append(\"Nearest\")\n",
    "    if model_bilinear.value: models.append(\"Bilinear\")\n",
    "    if model_bicubic.value: models.append(\"Bicubic\")\n",
    "\n",
    "    iterations = iterations_widget.value\n",
    "    alpha = alpha_widget.value\n",
    "\n",
    "    # Tạo LR\n",
    "    lr = degrade_image(hr, scale=scale, kernel=kernel, noise_type=noise)\n",
    "\n",
    "    # Hiển thị HR và LR\n",
    "    n_models = len(models)\n",
    "    plt.figure(figsize=(4*(n_models+2),4))\n",
    "    plt.subplot(1,n_models+2,1)\n",
    "    plt.imshow(hr, cmap=\"gray\"); plt.title(\"HR gốc\"); plt.axis(\"off\")\n",
    "\n",
    "    plt.subplot(1,n_models+2,2)\n",
    "    plt.imshow(lr, cmap=\"gray\"); plt.title(f\"LR ({noise})\"); plt.axis(\"off\")\n",
    "\n",
    "    # SR cho từng model đã tick\n",
    "    for i, m in enumerate(models):\n",
    "        # if m == \"IBP-Bicubic\":\n",
    "        #     sr = iterative_backprojection(lr, scale, kernel, iterations, alpha)\n",
    "        # else:\n",
    "        #     continue\n",
    "        sr = restore(lr, scale, m, iterations, alpha)\n",
    "\n",
    "        plt.subplot(1,n_models+2,i+3)\n",
    "        plt.imshow(sr, cmap=\"gray\"); plt.title(f\"SR ({m})\"); plt.axis(\"off\")\n",
    "        print(f\"PSNR ({m} vs HR):\", psnr(sr, hr))\n",
    "\n",
    "    plt.show()\n",
    "\n",
    "run_button.on_click(on_run_clicked)\n",
    "\n",
    "# Hiển thị tất cả widget\n",
    "display(noise_widget, model_box, iterations_widget, alpha_widget, run_button)"
   ]
  }
 ],
 "metadata": {
  "kernelspec": {
   "display_name": "venv",
   "language": "python",
   "name": "python3"
  },
  "language_info": {
   "codemirror_mode": {
    "name": "ipython",
    "version": 3
   },
   "file_extension": ".py",
   "mimetype": "text/x-python",
   "name": "python",
   "nbconvert_exporter": "python",
   "pygments_lexer": "ipython3",
   "version": "3.11.9"
  }
 },
 "nbformat": 4,
 "nbformat_minor": 5
}
